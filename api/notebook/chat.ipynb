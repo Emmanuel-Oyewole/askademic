{
 "cells": [
  {
   "cell_type": "code",
   "execution_count": 2,
   "id": "be4aed01",
   "metadata": {},
   "outputs": [
    {
     "name": "stdout",
     "output_type": "stream",
     "text": [
      "\n",
      "\u001b[1m[\u001b[0m\u001b[34;49mnotice\u001b[0m\u001b[1;39;49m]\u001b[0m\u001b[39;49m A new release of pip is available: \u001b[0m\u001b[31;49m25.0.1\u001b[0m\u001b[39;49m -> \u001b[0m\u001b[32;49m25.1.1\u001b[0m\n",
      "\u001b[1m[\u001b[0m\u001b[34;49mnotice\u001b[0m\u001b[1;39;49m]\u001b[0m\u001b[39;49m To update, run: \u001b[0m\u001b[32;49mpip install --upgrade pip\u001b[0m\n",
      "Note: you may need to restart the kernel to use updated packages.\n"
     ]
    }
   ],
   "source": [
    "%pip install -U -q 'google-genai>=1.19.0'"
   ]
  },
  {
   "cell_type": "code",
   "execution_count": null,
   "id": "418aa138",
   "metadata": {},
   "outputs": [],
   "source": [
    "GOOGLE_API_KEY = \"exmaple-apikey\""
   ]
  },
  {
   "cell_type": "code",
   "execution_count": 5,
   "id": "1a9ed9ec",
   "metadata": {},
   "outputs": [],
   "source": [
    "from google import genai\n",
    "\n",
    "client = genai.Client(api_key=GOOGLE_API_KEY)"
   ]
  },
  {
   "cell_type": "code",
   "execution_count": 1,
   "id": "b1ea830f",
   "metadata": {},
   "outputs": [],
   "source": [
    "MODEL_ID = \"gemini-2.5-flash-preview-05-20\""
   ]
  },
  {
   "cell_type": "code",
   "execution_count": null,
   "id": "b3aab1df",
   "metadata": {},
   "outputs": [
    {
     "ename": "AttributeError",
     "evalue": "'coroutine' object has no attribute 'text'",
     "output_type": "error",
     "traceback": [
      "\u001b[31m---------------------------------------------------------------------------\u001b[39m",
      "\u001b[31mAttributeError\u001b[39m                            Traceback (most recent call last)",
      "\u001b[36mCell\u001b[39m\u001b[36m \u001b[39m\u001b[32mIn[7]\u001b[39m\u001b[32m, line 6\u001b[39m\n\u001b[32m      1\u001b[39m \u001b[38;5;28;01mfrom\u001b[39;00m\u001b[38;5;250m \u001b[39m\u001b[34;01mIPython\u001b[39;00m\u001b[34;01m.\u001b[39;00m\u001b[34;01mdisplay\u001b[39;00m\u001b[38;5;250m \u001b[39m\u001b[38;5;28;01mimport\u001b[39;00m Markdown\n\u001b[32m      3\u001b[39m response = client.aio.models.generate_content(\n\u001b[32m      4\u001b[39m     model=MODEL_ID, contents=\u001b[33m\"\u001b[39m\u001b[33mexplain gen ai in simple terms\u001b[39m\u001b[33m\"\u001b[39m\n\u001b[32m      5\u001b[39m )\n\u001b[32m----> \u001b[39m\u001b[32m6\u001b[39m Markdown(\u001b[43mresponse\u001b[49m\u001b[43m.\u001b[49m\u001b[43mtext\u001b[49m)\n",
      "\u001b[31mAttributeError\u001b[39m: 'coroutine' object has no attribute 'text'"
     ]
    }
   ],
   "source": [
    "from IPython.display import Markdown\n",
    "\n",
    "response = client.models.generate_content(\n",
    "    model=MODEL_ID, contents=\"explain gen ai in simple terms\"\n",
    ")\n",
    "Markdown(response.text)"
   ]
  },
  {
   "cell_type": "code",
   "execution_count": 9,
   "id": "bff350b3",
   "metadata": {},
   "outputs": [
    {
     "name": "stdout",
     "output_type": "stream",
     "text": [
      "Once upon a time, in the  ancient land of Phrygia, there lived a king named **Midas**. He was a man of immense wealth, with treasuries overflowing with gold, jewels, and precious artifacts. Yet, despite his vast riches, Midas harbored one insatiable desire:  more gold. He loved it above all else – more than his beautiful gardens, more than the arts, and some even whispered, more than his own daughter.\n",
      "\n",
      "One day, as Midas's servants tended to his magnificent rose gardens, they discovered an  old satyr, Silenus, tutor to the god Dionysus, lying in a drunken stupor. Instead of punishing him, Midas, out of hospitality and a sense of piety, treated the old satyr kindly, lodging him in  his palace for ten days and nights, entertaining him with feasts and music.\n",
      "\n",
      "When Dionysus eventually came looking for his missing tutor, he was so grateful for Midas's kindness that he offered the king any wish his heart desired.\n",
      "\n",
      "M idas's eyes gleamed with avarice. Without a moment's hesitation, he declared, \"I wish, O mighty Dionysus, that everything I touch should turn to purest gold!\"\n",
      "\n",
      "Dionysus sighed, a subtle weariness in his divine  eyes. \"Your wish is granted, King Midas,\" he said, \"but consider carefully the true nature of your desire.\"\n",
      "\n",
      "Midas barely heard the warning. He was too consumed with excitement. As soon as Dionysus vanished, Midas rushed out to  test his new power. He touched a branch of an oak tree, and instantly, its bark and leaves transformed into gleaming, rigid gold. He picked up a stone, and it became a heavy nugget. He touched a rose, and its soft  petals hardened into exquisite golden filigree. He laughed with pure delight, believing himself the luckiest man alive.\n",
      "\n",
      "He returned to his palace, eager to touch everything within. His throne became a dazzling seat of solid gold. His very robes  turned to shimmering fabric of gold. He imagined the boundless wealth he would now possess!\n",
      "\n",
      "But as the day wore on, a gnawing hunger began to plague him. He sat down for a feast, piled high with delicious meats, fruits, and bread . He reached for a succulent grape, but the moment his fingers brushed it, it solidified into a tiny, golden marble. He tried to bite into a piece of bread, but it became a golden brick, utterly inedible. He lifted a goblet of wine to  his lips, and it instantly turned into a liquid gold, shimmering beautifully, but impossible to drink.\n",
      "\n",
      "Panic began to set in. He was surrounded by the very thing he desired, yet it offered him no sustenance. He was starving, amidst  an ocean of gold.\n",
      "\n",
      "Then, his beloved young daughter, curious about the strange silence from her father's dining hall, came rushing in. \"Father!\" she cried, throwing her arms around his leg in a loving embrace.\n",
      "\n",
      "In  that terrible instant, Midas felt her warm, soft skin turn cold and hard. Her bright, laughing eyes became vacant, golden marbles, and her flowing hair stiffened into rigid, golden strands. His daughter, his only child, stood  before him, a lifeless statue of pure gold.\n",
      "\n",
      "Midas let out a cry of despair that echoed through the silent, gilded halls. Tears streamed down his face, though they, too, turned to gold as they fell, glittering uselessly on his  cheek. He was surrounded by an abundance of worthless gold, a golden prison of his own making. He had everything he wished for, and in doing so, he had lost everything that truly mattered.\n",
      "\n",
      "In his agony, he cried out to Dionysus,  begging for mercy, for the terrible gift to be taken back. \"O mighty god,\" he pleaded, \"forgive my foolishness! This gift is a curse! Take it away, and restore to me the simple joys of life!\" \n",
      "\n",
      "Dionysus, seeing Midas's genuine repentance and deep sorrow, took pity on him. \"Go to the river Pactolus,\" he instructed, \"and wash yourself in its waters. Plunge your head and body into the spring  where it rises, and the power will pass from you.\"\n",
      "\n",
      "Midas rushed to the river, plunged himself into its cool depths, and felt the power drain from him, flowing into the river itself. To this day, grains of gold can  be found in the sands of the Pactolus, a reminder of Midas's fateful wish.\n",
      "\n",
      "When he emerged, cleansed and humbled, he touched the ordinary stones on the riverbank, and they remained stones. He rushed back to his palace and  embraced his daughter, whose warm, living form returned to him.\n",
      "\n",
      "From that day forward, King Midas lived a simpler life. He learned to value the warmth of the sun, the taste of simple food, the laughter of his daughter, and  the beauty of nature above all the gold in the world. For he had learned a bitter truth: that true wealth is not found in boundless riches, but in the ordinary, priceless joys of life, which gold can neither buy nor replace. "
     ]
    }
   ],
   "source": [
    "async for chunk in await client.aio.models.generate_content_stream(\n",
    "    model=MODEL_ID, contents=\"Tell me an old folk tale about wealth\"\n",
    "):\n",
    "    print(chunk.text, end=\" \")"
   ]
  },
  {
   "cell_type": "code",
   "execution_count": 5,
   "id": "3a11cd86",
   "metadata": {},
   "outputs": [
    {
     "data": {
      "text/plain": [
       "CompletionResponse(text='The current president of Nigeria is **Bola Ahmed Tinubu**.\\n\\nHe assumed office on May 29, 2023.', additional_kwargs={}, raw={'content': {'parts': [{'video_metadata': None, 'thought': None, 'inline_data': None, 'file_data': None, 'thought_signature': None, 'code_execution_result': None, 'executable_code': None, 'function_call': None, 'function_response': None, 'text': 'The current president of Nigeria is **Bola Ahmed Tinubu**.\\n\\nHe assumed office on May 29, 2023.'}], 'role': 'model'}, 'citation_metadata': None, 'finish_message': None, 'token_count': None, 'finish_reason': <FinishReason.STOP: 'STOP'>, 'url_context_metadata': None, 'avg_logprobs': None, 'grounding_metadata': None, 'index': 0, 'logprobs_result': None, 'safety_ratings': None, 'usage_metadata': {'cache_tokens_details': None, 'cached_content_token_count': None, 'candidates_token_count': 27, 'candidates_tokens_details': None, 'prompt_token_count': 7, 'prompt_tokens_details': [{'modality': <MediaModality.TEXT: 'TEXT'>, 'token_count': 7}], 'thoughts_token_count': 118, 'tool_use_prompt_token_count': None, 'tool_use_prompt_tokens_details': None, 'total_token_count': 152, 'traffic_type': None}}, logprobs=None, delta=None)"
      ]
     },
     "execution_count": 5,
     "metadata": {},
     "output_type": "execute_result"
    }
   ],
   "source": [
    "from llama_index.llms.google_genai import GoogleGenAI\n",
    "\n",
    "llm = GoogleGenAI(model=MODEL_ID, api_key=GOOGLE_API_KEY)\n",
    "\n",
    "res = llm.complete(\"Who is the president of nigeria\")\n",
    "res"
   ]
  },
  {
   "cell_type": "code",
   "execution_count": null,
   "id": "4275572f",
   "metadata": {},
   "outputs": [],
   "source": []
  }
 ],
 "metadata": {
  "kernelspec": {
   "display_name": ".venv",
   "language": "python",
   "name": "python3"
  },
  "language_info": {
   "codemirror_mode": {
    "name": "ipython",
    "version": 3
   },
   "file_extension": ".py",
   "mimetype": "text/x-python",
   "name": "python",
   "nbconvert_exporter": "python",
   "pygments_lexer": "ipython3",
   "version": "3.12.8"
  }
 },
 "nbformat": 4,
 "nbformat_minor": 5
}
